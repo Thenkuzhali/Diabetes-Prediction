{
 "cells": [
  {
   "cell_type": "markdown",
   "id": "a47bd705",
   "metadata": {
    "papermill": {
     "duration": 0.00743,
     "end_time": "2023-03-22T16:18:19.306946",
     "exception": false,
     "start_time": "2023-03-22T16:18:19.299516",
     "status": "completed"
    },
    "tags": []
   },
   "source": [
    "# **Diabetes Prediction**"
   ]
  },
  {
   "cell_type": "code",
   "execution_count": 1,
   "id": "0a5fafc0",
   "metadata": {
    "execution": {
     "iopub.execute_input": "2023-03-22T16:18:19.321632Z",
     "iopub.status.busy": "2023-03-22T16:18:19.321224Z",
     "iopub.status.idle": "2023-03-22T16:18:20.359703Z",
     "shell.execute_reply": "2023-03-22T16:18:20.358453Z"
    },
    "papermill": {
     "duration": 1.049312,
     "end_time": "2023-03-22T16:18:20.362685",
     "exception": false,
     "start_time": "2023-03-22T16:18:19.313373",
     "status": "completed"
    },
    "tags": []
   },
   "outputs": [],
   "source": [
    "#importing libraries\n",
    "import pandas as pd\n",
    "import numpy as np\n",
    "import matplotlib.pyplot as plt\n",
    "import seaborn as sns"
   ]
  },
  {
   "cell_type": "code",
   "execution_count": 2,
   "id": "31d5d195",
   "metadata": {
    "execution": {
     "iopub.execute_input": "2023-03-22T16:18:20.377883Z",
     "iopub.status.busy": "2023-03-22T16:18:20.377492Z",
     "iopub.status.idle": "2023-03-22T16:18:20.404837Z",
     "shell.execute_reply": "2023-03-22T16:18:20.403568Z"
    },
    "papermill": {
     "duration": 0.038414,
     "end_time": "2023-03-22T16:18:20.407763",
     "exception": false,
     "start_time": "2023-03-22T16:18:20.369349",
     "status": "completed"
    },
    "tags": []
   },
   "outputs": [],
   "source": [
    "#read dataset\n",
    "df=pd.read_csv('C:\\\\Users\\\\User\\\\Downloads\\\\diabetes_pred\\\\diabetes.csv')"
   ]
  },
  {
   "cell_type": "markdown",
   "id": "b1302ad5",
   "metadata": {
    "papermill": {
     "duration": 0.006076,
     "end_time": "2023-03-22T16:18:20.420325",
     "exception": false,
     "start_time": "2023-03-22T16:18:20.414249",
     "status": "completed"
    },
    "tags": []
   },
   "source": [
    "### Exploratory Data Analysis"
   ]
  },
  {
   "cell_type": "code",
   "execution_count": 3,
   "id": "e3971178",
   "metadata": {
    "execution": {
     "iopub.execute_input": "2023-03-22T16:18:20.435517Z",
     "iopub.status.busy": "2023-03-22T16:18:20.434759Z",
     "iopub.status.idle": "2023-03-22T16:18:20.461911Z",
     "shell.execute_reply": "2023-03-22T16:18:20.460612Z"
    },
    "papermill": {
     "duration": 0.038142,
     "end_time": "2023-03-22T16:18:20.464922",
     "exception": false,
     "start_time": "2023-03-22T16:18:20.426780",
     "status": "completed"
    },
    "tags": []
   },
   "outputs": [
    {
     "data": {
      "text/html": [
       "<div>\n",
       "<style scoped>\n",
       "    .dataframe tbody tr th:only-of-type {\n",
       "        vertical-align: middle;\n",
       "    }\n",
       "\n",
       "    .dataframe tbody tr th {\n",
       "        vertical-align: top;\n",
       "    }\n",
       "\n",
       "    .dataframe thead th {\n",
       "        text-align: right;\n",
       "    }\n",
       "</style>\n",
       "<table border=\"1\" class=\"dataframe\">\n",
       "  <thead>\n",
       "    <tr style=\"text-align: right;\">\n",
       "      <th></th>\n",
       "      <th>Pregnancies</th>\n",
       "      <th>Glucose</th>\n",
       "      <th>BloodPressure</th>\n",
       "      <th>SkinThickness</th>\n",
       "      <th>Insulin</th>\n",
       "      <th>BMI</th>\n",
       "      <th>DiabetesPedigreeFunction</th>\n",
       "      <th>Age</th>\n",
       "      <th>Outcome</th>\n",
       "    </tr>\n",
       "  </thead>\n",
       "  <tbody>\n",
       "    <tr>\n",
       "      <th>0</th>\n",
       "      <td>6</td>\n",
       "      <td>148</td>\n",
       "      <td>72</td>\n",
       "      <td>35</td>\n",
       "      <td>0</td>\n",
       "      <td>33.6</td>\n",
       "      <td>0.627</td>\n",
       "      <td>50</td>\n",
       "      <td>1</td>\n",
       "    </tr>\n",
       "    <tr>\n",
       "      <th>1</th>\n",
       "      <td>1</td>\n",
       "      <td>85</td>\n",
       "      <td>66</td>\n",
       "      <td>29</td>\n",
       "      <td>0</td>\n",
       "      <td>26.6</td>\n",
       "      <td>0.351</td>\n",
       "      <td>31</td>\n",
       "      <td>0</td>\n",
       "    </tr>\n",
       "    <tr>\n",
       "      <th>2</th>\n",
       "      <td>8</td>\n",
       "      <td>183</td>\n",
       "      <td>64</td>\n",
       "      <td>0</td>\n",
       "      <td>0</td>\n",
       "      <td>23.3</td>\n",
       "      <td>0.672</td>\n",
       "      <td>32</td>\n",
       "      <td>1</td>\n",
       "    </tr>\n",
       "    <tr>\n",
       "      <th>3</th>\n",
       "      <td>1</td>\n",
       "      <td>89</td>\n",
       "      <td>66</td>\n",
       "      <td>23</td>\n",
       "      <td>94</td>\n",
       "      <td>28.1</td>\n",
       "      <td>0.167</td>\n",
       "      <td>21</td>\n",
       "      <td>0</td>\n",
       "    </tr>\n",
       "    <tr>\n",
       "      <th>4</th>\n",
       "      <td>0</td>\n",
       "      <td>137</td>\n",
       "      <td>40</td>\n",
       "      <td>35</td>\n",
       "      <td>168</td>\n",
       "      <td>43.1</td>\n",
       "      <td>2.288</td>\n",
       "      <td>33</td>\n",
       "      <td>1</td>\n",
       "    </tr>\n",
       "  </tbody>\n",
       "</table>\n",
       "</div>"
      ],
      "text/plain": [
       "   Pregnancies  Glucose  BloodPressure  SkinThickness  Insulin   BMI  \\\n",
       "0            6      148             72             35        0  33.6   \n",
       "1            1       85             66             29        0  26.6   \n",
       "2            8      183             64              0        0  23.3   \n",
       "3            1       89             66             23       94  28.1   \n",
       "4            0      137             40             35      168  43.1   \n",
       "\n",
       "   DiabetesPedigreeFunction  Age  Outcome  \n",
       "0                     0.627   50        1  \n",
       "1                     0.351   31        0  \n",
       "2                     0.672   32        1  \n",
       "3                     0.167   21        0  \n",
       "4                     2.288   33        1  "
      ]
     },
     "execution_count": 3,
     "metadata": {},
     "output_type": "execute_result"
    }
   ],
   "source": [
    "df.head()"
   ]
  },
  {
   "cell_type": "raw",
   "id": "e5f6536e",
   "metadata": {},
   "source": [
    "BMI\t              Weight Status\n",
    "Below 18.5\t        Underweight\n",
    "18.5—24.9\t        Healthy Weight\n",
    "25.0—29.9\t        Overweight\n",
    "30.0 and Above\t    Obesity"
   ]
  },
  {
   "cell_type": "code",
   "execution_count": 4,
   "id": "40ad9b4e",
   "metadata": {
    "execution": {
     "iopub.execute_input": "2023-03-22T16:18:20.480957Z",
     "iopub.status.busy": "2023-03-22T16:18:20.480258Z",
     "iopub.status.idle": "2023-03-22T16:18:20.487461Z",
     "shell.execute_reply": "2023-03-22T16:18:20.486470Z"
    },
    "papermill": {
     "duration": 0.018191,
     "end_time": "2023-03-22T16:18:20.490056",
     "exception": false,
     "start_time": "2023-03-22T16:18:20.471865",
     "status": "completed"
    },
    "tags": []
   },
   "outputs": [
    {
     "data": {
      "text/plain": [
       "Index(['Pregnancies', 'Glucose', 'BloodPressure', 'SkinThickness', 'Insulin',\n",
       "       'BMI', 'DiabetesPedigreeFunction', 'Age', 'Outcome'],\n",
       "      dtype='object')"
      ]
     },
     "execution_count": 4,
     "metadata": {},
     "output_type": "execute_result"
    }
   ],
   "source": [
    "df.columns"
   ]
  },
  {
   "cell_type": "code",
   "execution_count": 5,
   "id": "3697f959",
   "metadata": {
    "execution": {
     "iopub.execute_input": "2023-03-22T16:18:20.506313Z",
     "iopub.status.busy": "2023-03-22T16:18:20.505651Z",
     "iopub.status.idle": "2023-03-22T16:18:20.528278Z",
     "shell.execute_reply": "2023-03-22T16:18:20.526680Z"
    },
    "papermill": {
     "duration": 0.034265,
     "end_time": "2023-03-22T16:18:20.531325",
     "exception": false,
     "start_time": "2023-03-22T16:18:20.497060",
     "status": "completed"
    },
    "tags": []
   },
   "outputs": [
    {
     "name": "stdout",
     "output_type": "stream",
     "text": [
      "<class 'pandas.core.frame.DataFrame'>\n",
      "RangeIndex: 768 entries, 0 to 767\n",
      "Data columns (total 9 columns):\n",
      " #   Column                    Non-Null Count  Dtype  \n",
      "---  ------                    --------------  -----  \n",
      " 0   Pregnancies               768 non-null    int64  \n",
      " 1   Glucose                   768 non-null    int64  \n",
      " 2   BloodPressure             768 non-null    int64  \n",
      " 3   SkinThickness             768 non-null    int64  \n",
      " 4   Insulin                   768 non-null    int64  \n",
      " 5   BMI                       768 non-null    float64\n",
      " 6   DiabetesPedigreeFunction  768 non-null    float64\n",
      " 7   Age                       768 non-null    int64  \n",
      " 8   Outcome                   768 non-null    int64  \n",
      "dtypes: float64(2), int64(7)\n",
      "memory usage: 54.1 KB\n"
     ]
    }
   ],
   "source": [
    "df.info()"
   ]
  },
  {
   "cell_type": "code",
   "execution_count": 6,
   "id": "512e02d2",
   "metadata": {
    "execution": {
     "iopub.execute_input": "2023-03-22T16:18:20.547208Z",
     "iopub.status.busy": "2023-03-22T16:18:20.546822Z",
     "iopub.status.idle": "2023-03-22T16:18:20.553374Z",
     "shell.execute_reply": "2023-03-22T16:18:20.552281Z"
    },
    "papermill": {
     "duration": 0.017468,
     "end_time": "2023-03-22T16:18:20.555851",
     "exception": false,
     "start_time": "2023-03-22T16:18:20.538383",
     "status": "completed"
    },
    "tags": []
   },
   "outputs": [
    {
     "data": {
      "text/plain": [
       "(768, 9)"
      ]
     },
     "execution_count": 6,
     "metadata": {},
     "output_type": "execute_result"
    }
   ],
   "source": [
    "df.shape"
   ]
  },
  {
   "cell_type": "code",
   "execution_count": 7,
   "id": "b562b986",
   "metadata": {
    "execution": {
     "iopub.execute_input": "2023-03-22T16:18:20.571735Z",
     "iopub.status.busy": "2023-03-22T16:18:20.571315Z",
     "iopub.status.idle": "2023-03-22T16:18:20.609624Z",
     "shell.execute_reply": "2023-03-22T16:18:20.608755Z"
    },
    "papermill": {
     "duration": 0.048919,
     "end_time": "2023-03-22T16:18:20.611833",
     "exception": false,
     "start_time": "2023-03-22T16:18:20.562914",
     "status": "completed"
    },
    "scrolled": true,
    "tags": []
   },
   "outputs": [
    {
     "data": {
      "text/html": [
       "<div>\n",
       "<style scoped>\n",
       "    .dataframe tbody tr th:only-of-type {\n",
       "        vertical-align: middle;\n",
       "    }\n",
       "\n",
       "    .dataframe tbody tr th {\n",
       "        vertical-align: top;\n",
       "    }\n",
       "\n",
       "    .dataframe thead th {\n",
       "        text-align: right;\n",
       "    }\n",
       "</style>\n",
       "<table border=\"1\" class=\"dataframe\">\n",
       "  <thead>\n",
       "    <tr style=\"text-align: right;\">\n",
       "      <th></th>\n",
       "      <th>Pregnancies</th>\n",
       "      <th>Glucose</th>\n",
       "      <th>BloodPressure</th>\n",
       "      <th>SkinThickness</th>\n",
       "      <th>Insulin</th>\n",
       "      <th>BMI</th>\n",
       "      <th>DiabetesPedigreeFunction</th>\n",
       "      <th>Age</th>\n",
       "      <th>Outcome</th>\n",
       "    </tr>\n",
       "  </thead>\n",
       "  <tbody>\n",
       "    <tr>\n",
       "      <th>count</th>\n",
       "      <td>768.000000</td>\n",
       "      <td>768.000000</td>\n",
       "      <td>768.000000</td>\n",
       "      <td>768.000000</td>\n",
       "      <td>768.000000</td>\n",
       "      <td>768.000000</td>\n",
       "      <td>768.000000</td>\n",
       "      <td>768.000000</td>\n",
       "      <td>768.000000</td>\n",
       "    </tr>\n",
       "    <tr>\n",
       "      <th>mean</th>\n",
       "      <td>3.845052</td>\n",
       "      <td>120.894531</td>\n",
       "      <td>69.105469</td>\n",
       "      <td>20.536458</td>\n",
       "      <td>79.799479</td>\n",
       "      <td>31.992578</td>\n",
       "      <td>0.471876</td>\n",
       "      <td>33.240885</td>\n",
       "      <td>0.348958</td>\n",
       "    </tr>\n",
       "    <tr>\n",
       "      <th>std</th>\n",
       "      <td>3.369578</td>\n",
       "      <td>31.972618</td>\n",
       "      <td>19.355807</td>\n",
       "      <td>15.952218</td>\n",
       "      <td>115.244002</td>\n",
       "      <td>7.884160</td>\n",
       "      <td>0.331329</td>\n",
       "      <td>11.760232</td>\n",
       "      <td>0.476951</td>\n",
       "    </tr>\n",
       "    <tr>\n",
       "      <th>min</th>\n",
       "      <td>0.000000</td>\n",
       "      <td>0.000000</td>\n",
       "      <td>0.000000</td>\n",
       "      <td>0.000000</td>\n",
       "      <td>0.000000</td>\n",
       "      <td>0.000000</td>\n",
       "      <td>0.078000</td>\n",
       "      <td>21.000000</td>\n",
       "      <td>0.000000</td>\n",
       "    </tr>\n",
       "    <tr>\n",
       "      <th>25%</th>\n",
       "      <td>1.000000</td>\n",
       "      <td>99.000000</td>\n",
       "      <td>62.000000</td>\n",
       "      <td>0.000000</td>\n",
       "      <td>0.000000</td>\n",
       "      <td>27.300000</td>\n",
       "      <td>0.243750</td>\n",
       "      <td>24.000000</td>\n",
       "      <td>0.000000</td>\n",
       "    </tr>\n",
       "    <tr>\n",
       "      <th>50%</th>\n",
       "      <td>3.000000</td>\n",
       "      <td>117.000000</td>\n",
       "      <td>72.000000</td>\n",
       "      <td>23.000000</td>\n",
       "      <td>30.500000</td>\n",
       "      <td>32.000000</td>\n",
       "      <td>0.372500</td>\n",
       "      <td>29.000000</td>\n",
       "      <td>0.000000</td>\n",
       "    </tr>\n",
       "    <tr>\n",
       "      <th>75%</th>\n",
       "      <td>6.000000</td>\n",
       "      <td>140.250000</td>\n",
       "      <td>80.000000</td>\n",
       "      <td>32.000000</td>\n",
       "      <td>127.250000</td>\n",
       "      <td>36.600000</td>\n",
       "      <td>0.626250</td>\n",
       "      <td>41.000000</td>\n",
       "      <td>1.000000</td>\n",
       "    </tr>\n",
       "    <tr>\n",
       "      <th>max</th>\n",
       "      <td>17.000000</td>\n",
       "      <td>199.000000</td>\n",
       "      <td>122.000000</td>\n",
       "      <td>99.000000</td>\n",
       "      <td>846.000000</td>\n",
       "      <td>67.100000</td>\n",
       "      <td>2.420000</td>\n",
       "      <td>81.000000</td>\n",
       "      <td>1.000000</td>\n",
       "    </tr>\n",
       "  </tbody>\n",
       "</table>\n",
       "</div>"
      ],
      "text/plain": [
       "       Pregnancies     Glucose  BloodPressure  SkinThickness     Insulin  \\\n",
       "count   768.000000  768.000000     768.000000     768.000000  768.000000   \n",
       "mean      3.845052  120.894531      69.105469      20.536458   79.799479   \n",
       "std       3.369578   31.972618      19.355807      15.952218  115.244002   \n",
       "min       0.000000    0.000000       0.000000       0.000000    0.000000   \n",
       "25%       1.000000   99.000000      62.000000       0.000000    0.000000   \n",
       "50%       3.000000  117.000000      72.000000      23.000000   30.500000   \n",
       "75%       6.000000  140.250000      80.000000      32.000000  127.250000   \n",
       "max      17.000000  199.000000     122.000000      99.000000  846.000000   \n",
       "\n",
       "              BMI  DiabetesPedigreeFunction         Age     Outcome  \n",
       "count  768.000000                768.000000  768.000000  768.000000  \n",
       "mean    31.992578                  0.471876   33.240885    0.348958  \n",
       "std      7.884160                  0.331329   11.760232    0.476951  \n",
       "min      0.000000                  0.078000   21.000000    0.000000  \n",
       "25%     27.300000                  0.243750   24.000000    0.000000  \n",
       "50%     32.000000                  0.372500   29.000000    0.000000  \n",
       "75%     36.600000                  0.626250   41.000000    1.000000  \n",
       "max     67.100000                  2.420000   81.000000    1.000000  "
      ]
     },
     "execution_count": 7,
     "metadata": {},
     "output_type": "execute_result"
    }
   ],
   "source": [
    "df.describe()"
   ]
  },
  {
   "cell_type": "code",
   "execution_count": 8,
   "id": "6a91ab7c",
   "metadata": {
    "execution": {
     "iopub.execute_input": "2023-03-22T16:18:20.629276Z",
     "iopub.status.busy": "2023-03-22T16:18:20.628423Z",
     "iopub.status.idle": "2023-03-22T16:18:20.637211Z",
     "shell.execute_reply": "2023-03-22T16:18:20.636093Z"
    },
    "papermill": {
     "duration": 0.020638,
     "end_time": "2023-03-22T16:18:20.639678",
     "exception": false,
     "start_time": "2023-03-22T16:18:20.619040",
     "status": "completed"
    },
    "tags": []
   },
   "outputs": [
    {
     "data": {
      "text/plain": [
       "Pregnancies                 0\n",
       "Glucose                     0\n",
       "BloodPressure               0\n",
       "SkinThickness               0\n",
       "Insulin                     0\n",
       "BMI                         0\n",
       "DiabetesPedigreeFunction    0\n",
       "Age                         0\n",
       "Outcome                     0\n",
       "dtype: int64"
      ]
     },
     "execution_count": 8,
     "metadata": {},
     "output_type": "execute_result"
    }
   ],
   "source": [
    "#checking null values\n",
    "df.isnull().sum()"
   ]
  },
  {
   "cell_type": "code",
   "execution_count": 9,
   "id": "a98c208f",
   "metadata": {
    "execution": {
     "iopub.execute_input": "2023-03-22T16:18:20.656143Z",
     "iopub.status.busy": "2023-03-22T16:18:20.655761Z",
     "iopub.status.idle": "2023-03-22T16:18:20.875058Z",
     "shell.execute_reply": "2023-03-22T16:18:20.873690Z"
    },
    "papermill": {
     "duration": 0.230716,
     "end_time": "2023-03-22T16:18:20.877667",
     "exception": false,
     "start_time": "2023-03-22T16:18:20.646951",
     "status": "completed"
    },
    "tags": []
   },
   "outputs": [
    {
     "data": {
      "text/plain": [
       "<AxesSubplot:xlabel='Outcome', ylabel='count'>"
      ]
     },
     "execution_count": 9,
     "metadata": {},
     "output_type": "execute_result"
    },
    {
     "data": {
      "image/png": "[encoded data removed]",
      "text/plain": [
       "<Figure size 640x480 with 1 Axes>"
      ]
     },
     "metadata": {},
     "output_type": "display_data"
    }
   ],
   "source": [
    "#countplot\n",
    "sns.countplot(x='Outcome',data=df,palette=['b','g'])"
   ]
  },
  {
   "cell_type": "code",
   "execution_count": 11,
   "id": "cd17bbed",
   "metadata": {
    "execution": {
     "iopub.execute_input": "2023-03-22T16:18:38.631635Z",
     "iopub.status.busy": "2023-03-22T16:18:38.630704Z",
     "iopub.status.idle": "2023-03-22T16:18:39.287528Z",
     "shell.execute_reply": "2023-03-22T16:18:39.286207Z"
    },
    "papermill": {
     "duration": 0.695403,
     "end_time": "2023-03-22T16:18:39.291463",
     "exception": false,
     "start_time": "2023-03-22T16:18:38.596060",
     "status": "completed"
    },
    "tags": []
   },
   "outputs": [
    {
     "data": {
      "image/png": "[encoded data removed]",
      "text/plain": [
       "<Figure size 640x480 with 2 Axes>"
      ]
     },
     "metadata": {},
     "output_type": "display_data"
    }
   ],
   "source": [
    "#correlation heatmap\n",
    "sns.heatmap(df.corr(),annot=True,cmap='Blues')\n",
    "plt.show()"
   ]
  },
  {
   "cell_type": "markdown",
   "id": "af3d4e05",
   "metadata": {
    "papermill": {
     "duration": 0.033591,
     "end_time": "2023-03-22T16:18:39.359421",
     "exception": false,
     "start_time": "2023-03-22T16:18:39.325830",
     "status": "completed"
    },
    "tags": []
   },
   "source": [
    "### Data Cleaning"
   ]
  },
  {
   "cell_type": "code",
   "execution_count": 12,
   "id": "d136478c",
   "metadata": {
    "execution": {
     "iopub.execute_input": "2023-03-22T16:18:39.430652Z",
     "iopub.status.busy": "2023-03-22T16:18:39.430198Z",
     "iopub.status.idle": "2023-03-22T16:18:39.440167Z",
     "shell.execute_reply": "2023-03-22T16:18:39.439276Z"
    },
    "papermill": {
     "duration": 0.048887,
     "end_time": "2023-03-22T16:18:39.442509",
     "exception": false,
     "start_time": "2023-03-22T16:18:39.393622",
     "status": "completed"
    },
    "tags": []
   },
   "outputs": [],
   "source": [
    "#replacing zero value with NaN \n",
    "df_new=df\n",
    "df_new[[\"Glucose\", \"BloodPressure\", \"SkinThickness\", \"Insulin\", \"BMI\"]] = df_new[[\"Glucose\", \"BloodPressure\", \"SkinThickness\", \"Insulin\", \"BMI\"]].replace(0, np.NaN) "
   ]
  },
  {
   "cell_type": "code",
   "execution_count": 13,
   "id": "d803e6df",
   "metadata": {
    "execution": {
     "iopub.execute_input": "2023-03-22T16:18:39.511938Z",
     "iopub.status.busy": "2023-03-22T16:18:39.511536Z",
     "iopub.status.idle": "2023-03-22T16:18:39.521283Z",
     "shell.execute_reply": "2023-03-22T16:18:39.520067Z"
    },
    "papermill": {
     "duration": 0.047755,
     "end_time": "2023-03-22T16:18:39.523563",
     "exception": false,
     "start_time": "2023-03-22T16:18:39.475808",
     "status": "completed"
    },
    "tags": []
   },
   "outputs": [
    {
     "data": {
      "text/plain": [
       "Pregnancies                   0\n",
       "Glucose                       5\n",
       "BloodPressure                35\n",
       "SkinThickness               227\n",
       "Insulin                     374\n",
       "BMI                          11\n",
       "DiabetesPedigreeFunction      0\n",
       "Age                           0\n",
       "Outcome                       0\n",
       "dtype: int64"
      ]
     },
     "execution_count": 13,
     "metadata": {},
     "output_type": "execute_result"
    }
   ],
   "source": [
    "#count of Nan\n",
    "df_new.isnull().sum()"
   ]
  },
  {
   "cell_type": "code",
   "execution_count": 14,
   "id": "a6dc531f",
   "metadata": {
    "execution": {
     "iopub.execute_input": "2023-03-22T16:18:39.591871Z",
     "iopub.status.busy": "2023-03-22T16:18:39.591190Z",
     "iopub.status.idle": "2023-03-22T16:18:39.601570Z",
     "shell.execute_reply": "2023-03-22T16:18:39.600385Z"
    },
    "papermill": {
     "duration": 0.047163,
     "end_time": "2023-03-22T16:18:39.603747",
     "exception": false,
     "start_time": "2023-03-22T16:18:39.556584",
     "status": "completed"
    },
    "tags": []
   },
   "outputs": [],
   "source": [
    "#replacing NaN with mean values\n",
    "df_new[\"Glucose\"].fillna(df_new[\"Glucose\"].mean(), inplace = True)\n",
    "df_new[\"BloodPressure\"].fillna(df_new[\"BloodPressure\"].mean(), inplace = True)\n",
    "df_new[\"SkinThickness\"].fillna(df_new[\"SkinThickness\"].mean(), inplace = True)\n",
    "df_new[\"Insulin\"].fillna(df_new[\"Insulin\"].mean(), inplace = True)\n",
    "df_new[\"BMI\"].fillna(df_new[\"BMI\"].mean(), inplace = True)"
   ]
  },
  {
   "cell_type": "code",
   "execution_count": 15,
   "id": "3162878e",
   "metadata": {
    "execution": {
     "iopub.execute_input": "2023-03-22T16:18:39.673075Z",
     "iopub.status.busy": "2023-03-22T16:18:39.672108Z",
     "iopub.status.idle": "2023-03-22T16:18:39.681981Z",
     "shell.execute_reply": "2023-03-22T16:18:39.680912Z"
    },
    "papermill": {
     "duration": 0.047629,
     "end_time": "2023-03-22T16:18:39.684710",
     "exception": false,
     "start_time": "2023-03-22T16:18:39.637081",
     "status": "completed"
    },
    "tags": []
   },
   "outputs": [
    {
     "data": {
      "text/plain": [
       "Pregnancies                 0\n",
       "Glucose                     0\n",
       "BloodPressure               0\n",
       "SkinThickness               0\n",
       "Insulin                     0\n",
       "BMI                         0\n",
       "DiabetesPedigreeFunction    0\n",
       "Age                         0\n",
       "Outcome                     0\n",
       "dtype: int64"
      ]
     },
     "execution_count": 15,
     "metadata": {},
     "output_type": "execute_result"
    }
   ],
   "source": [
    "#checking null values\n",
    "df_new.isnull().sum()"
   ]
  },
  {
   "cell_type": "markdown",
   "id": "242f3fbc",
   "metadata": {
    "papermill": {
     "duration": 0.03332,
     "end_time": "2023-03-22T16:18:39.751808",
     "exception": false,
     "start_time": "2023-03-22T16:18:39.718488",
     "status": "completed"
    },
    "tags": []
   },
   "source": [
    "### Spliting Data"
   ]
  },
  {
   "cell_type": "code",
   "execution_count": 16,
   "id": "1d38e497",
   "metadata": {
    "execution": {
     "iopub.execute_input": "2023-03-22T16:18:39.823703Z",
     "iopub.status.busy": "2023-03-22T16:18:39.822937Z",
     "iopub.status.idle": "2023-03-22T16:18:39.829258Z",
     "shell.execute_reply": "2023-03-22T16:18:39.828539Z"
    },
    "papermill": {
     "duration": 0.045085,
     "end_time": "2023-03-22T16:18:39.831324",
     "exception": false,
     "start_time": "2023-03-22T16:18:39.786239",
     "status": "completed"
    },
    "tags": []
   },
   "outputs": [],
   "source": [
    "y=df_new['Outcome']\n",
    "X=df_new.drop('Outcome',axis=1)"
   ]
  },
  {
   "cell_type": "code",
   "execution_count": 17,
   "id": "a3eee7f6",
   "metadata": {
    "execution": {
     "iopub.execute_input": "2023-03-22T16:18:39.901849Z",
     "iopub.status.busy": "2023-03-22T16:18:39.901407Z",
     "iopub.status.idle": "2023-03-22T16:18:40.315659Z",
     "shell.execute_reply": "2023-03-22T16:18:40.314550Z"
    },
    "papermill": {
     "duration": 0.453475,
     "end_time": "2023-03-22T16:18:40.318325",
     "exception": false,
     "start_time": "2023-03-22T16:18:39.864850",
     "status": "completed"
    },
    "tags": []
   },
   "outputs": [],
   "source": [
    "#spliting X and y\n",
    "from sklearn.model_selection import train_test_split\n",
    "\n",
    "X_train,X_test,Y_train,Y_test=train_test_split(X,y,test_size=0.20,random_state=0,stratify=df_new['Outcome'])"
   ]
  },
  {
   "cell_type": "markdown",
   "id": "ddedaa0c",
   "metadata": {
    "papermill": {
     "duration": 0.034685,
     "end_time": "2023-03-22T16:18:40.386724",
     "exception": false,
     "start_time": "2023-03-22T16:18:40.352039",
     "status": "completed"
    },
    "tags": []
   },
   "source": [
    "### Model Building"
   ]
  },
  {
   "cell_type": "code",
   "execution_count": 18,
   "id": "fecc529e",
   "metadata": {
    "execution": {
     "iopub.execute_input": "2023-03-22T16:18:40.459054Z",
     "iopub.status.busy": "2023-03-22T16:18:40.458647Z",
     "iopub.status.idle": "2023-03-22T16:18:40.579653Z",
     "shell.execute_reply": "2023-03-22T16:18:40.578381Z"
    },
    "papermill": {
     "duration": 0.160711,
     "end_time": "2023-03-22T16:18:40.582124",
     "exception": false,
     "start_time": "2023-03-22T16:18:40.421413",
     "status": "completed"
    },
    "tags": []
   },
   "outputs": [
    {
     "name": "stderr",
     "output_type": "stream",
     "text": [
      "C:\\ProgramData\\Anaconda3\\lib\\site-packages\\sklearn\\linear_model\\_logistic.py:814: ConvergenceWarning: lbfgs failed to converge (status=1):\n",
      "STOP: TOTAL NO. of ITERATIONS REACHED LIMIT.\n",
      "\n",
      "Increase the number of iterations (max_iter) or scale the data as shown in:\n",
      "    https://scikit-learn.org/stable/modules/preprocessing.html\n",
      "Please also refer to the documentation for alternative solver options:\n",
      "    https://scikit-learn.org/stable/modules/linear_model.html#logistic-regression\n",
      "  n_iter_i = _check_optimize_result(\n"
     ]
    },
    {
     "data": {
      "text/plain": [
       "LogisticRegression()"
      ]
     },
     "execution_count": 18,
     "metadata": {},
     "output_type": "execute_result"
    }
   ],
   "source": [
    "from sklearn.linear_model import LogisticRegression\n",
    "\n",
    "model=LogisticRegression()\n",
    "model.fit(X_train,Y_train)"
   ]
  },
  {
   "cell_type": "code",
   "execution_count": 19,
   "id": "9c8b9519",
   "metadata": {
    "execution": {
     "iopub.execute_input": "2023-03-22T16:18:40.652059Z",
     "iopub.status.busy": "2023-03-22T16:18:40.651669Z",
     "iopub.status.idle": "2023-03-22T16:18:40.660897Z",
     "shell.execute_reply": "2023-03-22T16:18:40.660026Z"
    },
    "papermill": {
     "duration": 0.047132,
     "end_time": "2023-03-22T16:18:40.662926",
     "exception": false,
     "start_time": "2023-03-22T16:18:40.615794",
     "status": "completed"
    },
    "tags": []
   },
   "outputs": [
    {
     "data": {
      "text/plain": [
       "array([0, 0, 0, 0, 1, 0, 1, 0, 0, 0, 0, 0, 0, 0, 0, 0, 0, 0, 0, 1, 0, 0,\n",
       "       0, 0, 0, 1, 1, 0, 0, 0, 0, 0, 1, 0, 1, 0, 1, 0, 0, 1, 0, 0, 1, 0,\n",
       "       1, 1, 0, 0, 0, 0, 0, 0, 0, 1, 0, 1, 0, 0, 0, 0, 0, 0, 1, 0, 0, 0,\n",
       "       0, 0, 0, 0, 0, 0, 0, 1, 1, 0, 0, 0, 0, 1, 0, 0, 1, 0, 1, 1, 0, 0,\n",
       "       1, 0, 0, 0, 0, 1, 1, 0, 0, 1, 0, 0, 0, 0, 0, 0, 0, 0, 0, 1, 0, 0,\n",
       "       0, 0, 0, 1, 1, 0, 0, 0, 0, 0, 1, 0, 1, 0, 0, 0, 0, 1, 0, 0, 0, 1,\n",
       "       0, 1, 0, 1, 1, 1, 1, 1, 0, 0, 1, 0, 0, 0, 0, 0, 1, 0, 0, 1, 0, 0],\n",
       "      dtype=int64)"
      ]
     },
     "execution_count": 19,
     "metadata": {},
     "output_type": "execute_result"
    }
   ],
   "source": [
    "#get prediction\n",
    "y_predict=model.predict(X_test)\n",
    "y_predict"
   ]
  },
  {
   "cell_type": "code",
   "execution_count": 20,
   "id": "25945ac0",
   "metadata": {
    "execution": {
     "iopub.execute_input": "2023-03-22T16:18:40.732989Z",
     "iopub.status.busy": "2023-03-22T16:18:40.732556Z",
     "iopub.status.idle": "2023-03-22T16:18:40.741423Z",
     "shell.execute_reply": "2023-03-22T16:18:40.740613Z"
    },
    "papermill": {
     "duration": 0.046792,
     "end_time": "2023-03-22T16:18:40.743405",
     "exception": false,
     "start_time": "2023-03-22T16:18:40.696613",
     "status": "completed"
    },
    "tags": []
   },
   "outputs": [
    {
     "data": {
      "text/plain": [
       "array([[88, 12],\n",
       "       [25, 29]], dtype=int64)"
      ]
     },
     "execution_count": 20,
     "metadata": {},
     "output_type": "execute_result"
    }
   ],
   "source": [
    "#confusion matrix\n",
    "from sklearn.metrics import confusion_matrix\n",
    "\n",
    "cm=confusion_matrix(Y_test,y_predict)\n",
    "cm"
   ]
  },
  {
   "cell_type": "code",
   "execution_count": 21,
   "id": "f46d974b",
   "metadata": {
    "execution": {
     "iopub.execute_input": "2023-03-22T16:18:40.813627Z",
     "iopub.status.busy": "2023-03-22T16:18:40.813182Z",
     "iopub.status.idle": "2023-03-22T16:18:41.082080Z",
     "shell.execute_reply": "2023-03-22T16:18:41.080812Z"
    },
    "papermill": {
     "duration": 0.307485,
     "end_time": "2023-03-22T16:18:41.084592",
     "exception": false,
     "start_time": "2023-03-22T16:18:40.777107",
     "status": "completed"
    },
    "scrolled": true,
    "tags": []
   },
   "outputs": [
    {
     "data": {
      "text/plain": [
       "<AxesSubplot:>"
      ]
     },
     "execution_count": 21,
     "metadata": {},
     "output_type": "execute_result"
    },
    {
     "data": {
      "image/png": "[encoded data removed]",
      "text/plain": [
       "<Figure size 640x480 with 2 Axes>"
      ]
     },
     "metadata": {},
     "output_type": "display_data"
    }
   ],
   "source": [
    "#heatmap of confusion matrix\n",
    "sns.heatmap(pd.DataFrame(cm),annot=True, cmap=\"Greens\")"
   ]
  },
  {
   "cell_type": "code",
   "execution_count": null,
   "id": "c1f70a18",
   "metadata": {},
   "outputs": [],
   "source": [
    "# TP - 29\n",
    "# TN - 88\n",
    "# FN - 25\n",
    "# FP - 12"
   ]
  },
  {
   "cell_type": "code",
   "execution_count": 22,
   "id": "ac69b00d",
   "metadata": {
    "execution": {
     "iopub.execute_input": "2023-03-22T16:18:41.158773Z",
     "iopub.status.busy": "2023-03-22T16:18:41.157307Z",
     "iopub.status.idle": "2023-03-22T16:18:41.165886Z",
     "shell.execute_reply": "2023-03-22T16:18:41.164549Z"
    },
    "papermill": {
     "duration": 0.048604,
     "end_time": "2023-03-22T16:18:41.168435",
     "exception": false,
     "start_time": "2023-03-22T16:18:41.119831",
     "status": "completed"
    },
    "scrolled": true,
    "tags": []
   },
   "outputs": [
    {
     "name": "stdout",
     "output_type": "stream",
     "text": [
      "Accuracy :  76.0 %\n"
     ]
    }
   ],
   "source": [
    "#accuracy score\n",
    "from sklearn.metrics import accuracy_score\n",
    "\n",
    "accuracy=accuracy_score(Y_test,y_predict)\n",
    "print(\"Accuracy : \",round(accuracy,2)*100,'%')"
   ]
  }
 ],
 "metadata": {
  "kernelspec": {
   "display_name": "Python 3 (ipykernel)",
   "language": "python",
   "name": "python3"
  },
  "language_info": {
   "codemirror_mode": {
    "name": "ipython",
    "version": 3
   },
   "file_extension": ".py",
   "mimetype": "text/x-python",
   "name": "python",
   "nbconvert_exporter": "python",
   "pygments_lexer": "ipython3",
   "version": "3.9.13"
  },
  "papermill": {
   "default_parameters": {},
   "duration": 32.361029,
   "end_time": "2023-03-22T16:18:42.226762",
   "environment_variables": {},
   "exception": null,
   "input_path": "__notebook__.ipynb",
   "output_path": "__notebook__.ipynb",
   "parameters": {},
   "start_time": "2023-03-22T16:18:09.865733",
   "version": "2.4.0"
  }
 },
 "nbformat": 4,
 "nbformat_minor": 5
}
